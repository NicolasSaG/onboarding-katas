{
 "cells": [
  {
   "cell_type": "code",
   "execution_count": 1,
   "metadata": {},
   "outputs": [
    {
     "ename": "FileNotFoundError",
     "evalue": "[Errno 2] No such file or directory: '/path/to/mars.jpg'",
     "output_type": "error",
     "traceback": [
      "\u001b[1;31m---------------------------------------------------------------------------\u001b[0m",
      "\u001b[1;31mFileNotFoundError\u001b[0m                         Traceback (most recent call last)",
      "\u001b[1;32mc:\\Users\\fnico\\Documents\\github\\CursoIntroPython\\Módulo 10 - Manejo de errores\\Módulo10Katas.ipynb Cell 1'\u001b[0m in \u001b[0;36m<module>\u001b[1;34m\u001b[0m\n\u001b[0;32m      <a href='vscode-notebook-cell:/c%3A/Users/fnico/Documents/github/CursoIntroPython/M%C3%B3dulo%2010%20-%20Manejo%20de%20errores/M%C3%B3dulo10Katas.ipynb#ch0000005?line=2'>3</a>\u001b[0m     \u001b[39mopen\u001b[39m(\u001b[39m\"\u001b[39m\u001b[39m/path/to/mars.jpg\u001b[39m\u001b[39m\"\u001b[39m)\n\u001b[0;32m      <a href='vscode-notebook-cell:/c%3A/Users/fnico/Documents/github/CursoIntroPython/M%C3%B3dulo%2010%20-%20Manejo%20de%20errores/M%C3%B3dulo10Katas.ipynb#ch0000005?line=5'>6</a>\u001b[0m \u001b[39mif\u001b[39;00m \u001b[39m__name__\u001b[39m \u001b[39m==\u001b[39m \u001b[39m'\u001b[39m\u001b[39m__main__\u001b[39m\u001b[39m'\u001b[39m:\n\u001b[1;32m----> <a href='vscode-notebook-cell:/c%3A/Users/fnico/Documents/github/CursoIntroPython/M%C3%B3dulo%2010%20-%20Manejo%20de%20errores/M%C3%B3dulo10Katas.ipynb#ch0000005?line=6'>7</a>\u001b[0m     main()\n",
      "\u001b[1;32mc:\\Users\\fnico\\Documents\\github\\CursoIntroPython\\Módulo 10 - Manejo de errores\\Módulo10Katas.ipynb Cell 1'\u001b[0m in \u001b[0;36mmain\u001b[1;34m()\u001b[0m\n\u001b[0;32m      <a href='vscode-notebook-cell:/c%3A/Users/fnico/Documents/github/CursoIntroPython/M%C3%B3dulo%2010%20-%20Manejo%20de%20errores/M%C3%B3dulo10Katas.ipynb#ch0000005?line=1'>2</a>\u001b[0m \u001b[39mdef\u001b[39;00m \u001b[39mmain\u001b[39m():\n\u001b[1;32m----> <a href='vscode-notebook-cell:/c%3A/Users/fnico/Documents/github/CursoIntroPython/M%C3%B3dulo%2010%20-%20Manejo%20de%20errores/M%C3%B3dulo10Katas.ipynb#ch0000005?line=2'>3</a>\u001b[0m     \u001b[39mopen\u001b[39;49m(\u001b[39m\"\u001b[39;49m\u001b[39m/path/to/mars.jpg\u001b[39;49m\u001b[39m\"\u001b[39;49m)\n",
      "\u001b[1;31mFileNotFoundError\u001b[0m: [Errno 2] No such file or directory: '/path/to/mars.jpg'"
     ]
    }
   ],
   "source": [
    "#open.py\n",
    "def main():\n",
    "    open(\"/path/to/mars.jpg\")\n",
    "\n",
    "\n",
    "if __name__ == '__main__':\n",
    "    main()"
   ]
  },
  {
   "cell_type": "markdown",
   "metadata": {},
   "source": [
    "##Manejo de errores"
   ]
  },
  {
   "cell_type": "code",
   "execution_count": 3,
   "metadata": {},
   "outputs": [
    {
     "name": "stdout",
     "output_type": "stream",
     "text": [
      "Couldn't find the config.txt file!\n"
     ]
    },
    {
     "ename": "RuntimeError",
     "evalue": "There is not enough water for 5 astronauts after 2 days!",
     "output_type": "error",
     "traceback": [
      "\u001b[1;31m---------------------------------------------------------------------------\u001b[0m",
      "\u001b[1;31mRuntimeError\u001b[0m                              Traceback (most recent call last)",
      "\u001b[1;32mc:\\Users\\fnico\\Documents\\github\\CursoIntroPython\\Módulo 10 - Manejo de errores\\Módulo10Katas.ipynb Cell 3'\u001b[0m in \u001b[0;36m<module>\u001b[1;34m\u001b[0m\n\u001b[0;32m     <a href='vscode-notebook-cell:/c%3A/Users/fnico/Documents/github/CursoIntroPython/M%C3%B3dulo%2010%20-%20Manejo%20de%20errores/M%C3%B3dulo10Katas.ipynb#ch0000006?line=24'>25</a>\u001b[0m \u001b[39mif\u001b[39;00m \u001b[39m__name__\u001b[39m \u001b[39m==\u001b[39m \u001b[39m'\u001b[39m\u001b[39m__main__\u001b[39m\u001b[39m'\u001b[39m:\n\u001b[0;32m     <a href='vscode-notebook-cell:/c%3A/Users/fnico/Documents/github/CursoIntroPython/M%C3%B3dulo%2010%20-%20Manejo%20de%20errores/M%C3%B3dulo10Katas.ipynb#ch0000006?line=25'>26</a>\u001b[0m     main()\n\u001b[1;32m---> <a href='vscode-notebook-cell:/c%3A/Users/fnico/Documents/github/CursoIntroPython/M%C3%B3dulo%2010%20-%20Manejo%20de%20errores/M%C3%B3dulo10Katas.ipynb#ch0000006?line=26'>27</a>\u001b[0m     \u001b[39mprint\u001b[39m(water_left(\u001b[39m5\u001b[39;49m, \u001b[39m100\u001b[39;49m, \u001b[39m2\u001b[39;49m))\n",
      "\u001b[1;32mc:\\Users\\fnico\\Documents\\github\\CursoIntroPython\\Módulo 10 - Manejo de errores\\Módulo10Katas.ipynb Cell 3'\u001b[0m in \u001b[0;36mwater_left\u001b[1;34m(astronauts, water_left, days_left)\u001b[0m\n\u001b[0;32m     <a href='vscode-notebook-cell:/c%3A/Users/fnico/Documents/github/CursoIntroPython/M%C3%B3dulo%2010%20-%20Manejo%20de%20errores/M%C3%B3dulo10Katas.ipynb#ch0000006?line=15'>16</a>\u001b[0m total_water_left \u001b[39m=\u001b[39m water_left \u001b[39m-\u001b[39m total_usage\n\u001b[0;32m     <a href='vscode-notebook-cell:/c%3A/Users/fnico/Documents/github/CursoIntroPython/M%C3%B3dulo%2010%20-%20Manejo%20de%20errores/M%C3%B3dulo10Katas.ipynb#ch0000006?line=17'>18</a>\u001b[0m \u001b[39mif\u001b[39;00m total_water_left \u001b[39m<\u001b[39m \u001b[39m0\u001b[39m:\n\u001b[1;32m---> <a href='vscode-notebook-cell:/c%3A/Users/fnico/Documents/github/CursoIntroPython/M%C3%B3dulo%2010%20-%20Manejo%20de%20errores/M%C3%B3dulo10Katas.ipynb#ch0000006?line=18'>19</a>\u001b[0m     \u001b[39mraise\u001b[39;00m \u001b[39mRuntimeError\u001b[39;00m(\n\u001b[0;32m     <a href='vscode-notebook-cell:/c%3A/Users/fnico/Documents/github/CursoIntroPython/M%C3%B3dulo%2010%20-%20Manejo%20de%20errores/M%C3%B3dulo10Katas.ipynb#ch0000006?line=19'>20</a>\u001b[0m         \u001b[39mf\u001b[39m\u001b[39m\"\u001b[39m\u001b[39mThere is not enough water for \u001b[39m\u001b[39m{\u001b[39;00mastronauts\u001b[39m}\u001b[39;00m\u001b[39m astronauts after \u001b[39m\u001b[39m{\u001b[39;00mdays_left\u001b[39m}\u001b[39;00m\u001b[39m days!\u001b[39m\u001b[39m\"\u001b[39m)\n\u001b[0;32m     <a href='vscode-notebook-cell:/c%3A/Users/fnico/Documents/github/CursoIntroPython/M%C3%B3dulo%2010%20-%20Manejo%20de%20errores/M%C3%B3dulo10Katas.ipynb#ch0000006?line=21'>22</a>\u001b[0m \u001b[39mreturn\u001b[39;00m \u001b[39mf\u001b[39m\u001b[39m\"\u001b[39m\u001b[39mTotal warter left after \u001b[39m\u001b[39m{\u001b[39;00mdays_left\u001b[39m}\u001b[39;00m\u001b[39m day is: \u001b[39m\u001b[39m{\u001b[39;00mtotal_water_left\u001b[39m}\u001b[39;00m\u001b[39m liters\u001b[39m\u001b[39m\"\u001b[39m\n",
      "\u001b[1;31mRuntimeError\u001b[0m: There is not enough water for 5 astronauts after 2 days!"
     ]
    }
   ],
   "source": [
    "#config.py\n",
    "def main():\n",
    "    try:\n",
    "        configuration = open(\"config.txt\")\n",
    "    except FileNotFoundError:\n",
    "        print(\"Couldn't find the config.txt file!\")\n",
    "    except IsADirectoryError:\n",
    "        print(\"Found config.txt but it is a directory, couldn't read it\")\n",
    "    except (BlockingIOError, TimeoutError):\n",
    "        print(\"Filesystem under heavy load, can't complete reading configuration file\")\n",
    "\n",
    "\n",
    "def water_left(astronauts, water_left, days_left):\n",
    "    daily_usage = astronauts * 11\n",
    "    total_usage = daily_usage * days_left\n",
    "    total_water_left = water_left - total_usage\n",
    "\n",
    "    if total_water_left < 0:\n",
    "        raise RuntimeError(\n",
    "            f\"There is not enough water for {astronauts} astronauts after {days_left} days!\")\n",
    "\n",
    "    return f\"Total warter left after {days_left} day is: {total_water_left} liters\"\n",
    "\n",
    "\n",
    "if __name__ == '__main__':\n",
    "    main()\n",
    "    print(water_left(5, 100, 2))\n"
   ]
  }
 ],
 "metadata": {
  "interpreter": {
   "hash": "5c080f3acb6e82db9a8747840c25a2859c81ee4fdf541a4c6547fad352421585"
  },
  "kernelspec": {
   "display_name": "Python 3.9.5 64-bit",
   "language": "python",
   "name": "python3"
  },
  "language_info": {
   "codemirror_mode": {
    "name": "ipython",
    "version": 3
   },
   "file_extension": ".py",
   "mimetype": "text/x-python",
   "name": "python",
   "nbconvert_exporter": "python",
   "pygments_lexer": "ipython3",
   "version": "3.9.5"
  },
  "orig_nbformat": 4
 },
 "nbformat": 4,
 "nbformat_minor": 2
}
